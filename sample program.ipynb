{
 "cells": [
  {
   "cell_type": "markdown",
   "id": "d9d36a98",
   "metadata": {},
   "source": [
    "# DICE GAME\n",
    " Write a program that simulates rolling a pair of dice. Each time the program runs, it \n",
    "should randomly generate two numbers between 1 and 6 (inclusive), representing \n",
    "the result of each die. The program should then display the results and ask if the \n",
    "user would like to roll again. "
   ]
  },
  {
   "cell_type": "code",
   "execution_count": 7,
   "id": "9779b1f8",
   "metadata": {},
   "outputs": [
    {
     "name": "stdout",
     "output_type": "stream",
     "text": [
      "no.of the dice: 5\n",
      "2\n",
      "2\n",
      "1\n",
      "3\n",
      "1\n",
      "no.of the dice: 6\n",
      "3\n",
      "2\n",
      "1\n",
      "6\n",
      "2\n",
      "4\n"
     ]
    }
   ],
   "source": [
    "import random\n",
    "while True:\n",
    "   s=input('enter y/n')\n",
    "   if(s=='n'):\n",
    "      break\n",
    "   elif(s=='y'):\n",
    "      p=int(input('enter the number of dice'))\n",
    "      print(\"no.of the dice:\",p)\n",
    "      for i in range(p):\n",
    "         a=random.randint(1,6)\n",
    "         print(a)\n",
    "   else:\n",
    "      print('would like to roll again')"
   ]
  },
  {
   "cell_type": "code",
   "execution_count": null,
   "id": "b4a97faa",
   "metadata": {},
   "outputs": [
    {
     "name": "stdout",
     "output_type": "stream",
     "text": [
      "number of dice: 5\n",
      "2 5\n",
      "4 6\n",
      "3 1\n",
      "1 2\n",
      "5 2\n"
     ]
    }
   ],
   "source": [
    "import random\n",
    "while True:\n",
    "   s=input(\"enter y/n\")  \n",
    "   if(s=='n'):\n",
    "      break\n",
    "   elif(s=='y'):\n",
    "      p=int(input(\"enter the number of dice\"))\n",
    "      print(\"number of dice:\",p)\n",
    "      for i in range(p):\n",
    "         a=random.randint(1,6)\n",
    "         b=random.randint(1,6)\n",
    "         print(a,b)\n",
    "   else:\n",
    "      print('would like to roll again')"
   ]
  },
  {
   "cell_type": "code",
   "execution_count": 13,
   "id": "00cfef05",
   "metadata": {},
   "outputs": [
    {
     "name": "stdout",
     "output_type": "stream",
     "text": [
      "roll the dice: (4, 3) (6, 2) (5, 2) (6, 6) (2, 2) "
     ]
    }
   ],
   "source": [
    "import random\n",
    "while True:\n",
    "    a=input(\"enter y/n\")\n",
    "    if(a==\"n\"):\n",
    "     break\n",
    "    elif(a==\"y\"):\n",
    "       t=int(input('enter the number of dice: '))\n",
    "       print(\"roll the dice:\", end=\" \")\n",
    "       for i in range(t):\n",
    "        p=random.randint(1,6)\n",
    "        n=random.randint(1,6)\n",
    "        print((p,n), end=\" \")\n",
    "    else:n\n",
    "       print(\"roll the dice\")"
   ]
  },
  {
   "cell_type": "markdown",
   "id": "75c55a96",
   "metadata": {},
   "source": [
    "# dice game total count"
   ]
  },
  {
   "cell_type": "code",
   "execution_count": null,
   "id": "d2719e35",
   "metadata": {},
   "outputs": [],
   "source": [
    "import random\n",
    "while True:\n",
    "    a=input(\"enter continue y/n\")\n",
    "    print(\"Thanks for playing!\")\n",
    "    if(a==\"n\"):\n",
    "     break\n",
    "    elif(a==\"y\"):\n",
    "       t=int(input('enter the number of dice: '))\n",
    "       print(\"number of dice:\" ,t)\n",
    "       m=int(input(\"no of players playing\"))\n",
    "       print(\"number of playing:\",m)\n",
    "       for j in range(t):\n",
    "        s=0\n",
    "        total=0\n",
    "        for i in range(m):\n",
    "           p=random.randint(1,6)\n",
    "           print(p, end=\" \")\n",
    "           total+=p\n",
    "           if(s<p):\n",
    "              s=p\n",
    "        print()\n",
    "        print(\"total:\",total)\n",
    "    else:\n",
    "       print(\"do you want to coninue:\")"
   ]
  },
  {
   "cell_type": "markdown",
   "id": "e02e3ede",
   "metadata": {},
   "source": [
    "# Rock paper scissor game\n",
    "Write a program to simulate a game of Rock, Paper, Scissors.  \n",
    "The game will prompt the player to choose rock, paper, or scissors by typing 'r', \n",
    "'p', or 's'. The computer will randomly select its choice. The game will then display \n",
    "both choices using emojis and determine the winner based on the rules."
   ]
  },
  {
   "cell_type": "code",
   "execution_count": 10,
   "id": "17779b04",
   "metadata": {},
   "outputs": [
    {
     "name": "stdout",
     "output_type": "stream",
     "text": [
      "Computer chose: s\n",
      "you chose: r\n",
      "you win\n",
      "Computer chose: r\n",
      "you chose: p\n",
      "you win\n",
      "Computer chose: s\n",
      "you chose: s\n",
      "Its a tie\n",
      "Computer chose: s\n",
      "you chose: r\n",
      "you win\n",
      "Computer chose: s\n",
      "you chose: \n",
      "you lose\n",
      "Computer chose: s\n",
      "Computer chose: r\n",
      "you chose: \n",
      "you lose\n",
      "Thanks for playing!\n"
     ]
    }
   ],
   "source": [
    "import random\n",
    "while True:\n",
    "    computer=random.choice(('r', 'p', 's'))\n",
    "    print(\"Computer chose:\", computer)\n",
    "    me=input(\"enter Rock as r, Paper as p, Scissors as s:\").lower()\n",
    "    print(\"you chose:\",me)\n",
    "    if computer==me:\n",
    "        print(\"Its a tie\")\n",
    "    elif(computer == \"r\" and me == \"p\") or \\\n",
    "        (computer == \"p\" and me == \"s\") or \\\n",
    "        (computer == \"s\" and me == \"r\"):\n",
    "        print(\"you win\")\n",
    "    else:\n",
    "        print(\"you lose\")\n",
    "        n=(input(\" do you want to continue y/n\"))\n",
    "        if n=='y':\n",
    "            print(\"Computer chose:\", computer)\n",
    "        else:\n",
    "            print(\"Thanks for playing!\")\n",
    "            break"
   ]
  },
  {
   "cell_type": "markdown",
   "id": "891e8445",
   "metadata": {},
   "source": []
  },
  {
   "cell_type": "markdown",
   "id": "c332782e",
   "metadata": {},
   "source": [
    "# number guessing game \n",
    "Write a program to have the computer randomly select a number between 1 and \n",
    "100, and then prompt the player to guess the number. The program should give \n",
    "hints if the guess is too high or too low. "
   ]
  },
  {
   "cell_type": "code",
   "execution_count": 6,
   "id": "6102a091",
   "metadata": {},
   "outputs": [
    {
     "ename": "ValueError",
     "evalue": "invalid literal for int() with base 10: ''",
     "output_type": "error",
     "traceback": [
      "\u001b[1;31m---------------------------------------------------------------------------\u001b[0m",
      "\u001b[1;31mValueError\u001b[0m                                Traceback (most recent call last)",
      "Cell \u001b[1;32mIn[6], line 6\u001b[0m\n\u001b[0;32m      4\u001b[0m attempts\u001b[38;5;241m=\u001b[39m\u001b[38;5;241m0\u001b[39m\n\u001b[0;32m      5\u001b[0m \u001b[38;5;28;01mwhile\u001b[39;00m attempts\u001b[38;5;241m<\u001b[39m\u001b[38;5;241m6\u001b[39m:\n\u001b[1;32m----> 6\u001b[0m    n\u001b[38;5;241m=\u001b[39m\u001b[38;5;28;43mint\u001b[39;49m\u001b[43m(\u001b[49m\u001b[38;5;28;43minput\u001b[39;49m\u001b[43m(\u001b[49m\u001b[38;5;124;43m'\u001b[39;49m\u001b[38;5;124;43mguess the number\u001b[39;49m\u001b[38;5;124;43m'\u001b[39;49m\u001b[43m)\u001b[49m\u001b[43m)\u001b[49m\n\u001b[0;32m      7\u001b[0m    \u001b[38;5;28mprint\u001b[39m(\u001b[38;5;124m\"\u001b[39m\u001b[38;5;124myou chose:\u001b[39m\u001b[38;5;124m\"\u001b[39m,n)\n\u001b[0;32m      8\u001b[0m    attempts\u001b[38;5;241m+\u001b[39m\u001b[38;5;241m=\u001b[39m\u001b[38;5;241m1\u001b[39m\n",
      "\u001b[1;31mValueError\u001b[0m: invalid literal for int() with base 10: ''"
     ]
    }
   ],
   "source": [
    "import random\n",
    "p=random.randint(1,100)\n",
    "\n",
    "attempts=0\n",
    "while attempts<6:\n",
    "   n=int(input('guess the number'))\n",
    "   print(\"you chose:\",n)\n",
    "   attempts+=1\n",
    "   if attempts<=5:\n",
    "      if p==n:\n",
    "        print(\"congrats you guessed number in 5 attempts\")\n",
    "        break\n",
    "      elif(n<p):\n",
    "        print(\"too low! tray again\")\n",
    "      else:\n",
    "        print(\"too high! tray again\")"
   ]
  },
  {
   "cell_type": "code",
   "execution_count": null,
   "id": "9b985505",
   "metadata": {},
   "outputs": [
    {
     "ename": "ModuleNotFoundError",
     "evalue": "No module named 'qrcode'",
     "output_type": "error",
     "traceback": [
      "\u001b[1;31m---------------------------------------------------------------------------\u001b[0m",
      "\u001b[1;31mModuleNotFoundError\u001b[0m                       Traceback (most recent call last)",
      "Cell \u001b[1;32mIn[1], line 1\u001b[0m\n\u001b[1;32m----> 1\u001b[0m \u001b[38;5;28;01mimport\u001b[39;00m \u001b[38;5;21;01mqrcode\u001b[39;00m \n",
      "\u001b[1;31mModuleNotFoundError\u001b[0m: No module named 'qrcode'"
     ]
    }
   ],
   "source": [
    "\n"
   ]
  }
 ],
 "metadata": {
  "kernelspec": {
   "display_name": "base",
   "language": "python",
   "name": "python3"
  },
  "language_info": {
   "codemirror_mode": {
    "name": "ipython",
    "version": 3
   },
   "file_extension": ".py",
   "mimetype": "text/x-python",
   "name": "python",
   "nbconvert_exporter": "python",
   "pygments_lexer": "ipython3",
   "version": "3.11.7"
  }
 },
 "nbformat": 4,
 "nbformat_minor": 5
}
